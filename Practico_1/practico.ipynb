import csv
import random
import matplotlib.pyplot as plt

# Crear listas vacías para almacenar los datos de peso y estatura
pesos = []
estaturas = []

# Leer datos del archivo CSV
with open('datos.csv', mode='r') as file:
    reader = csv.DictReader(file)  # Crear un lector de diccionarios para leer el CSV
    for row in reader:  # Iterar sobre cada fila del archivo CSV
        pesos.append(float(row['peso']))  # Convertir el valor de 'peso' a float y agregarlo a la lista
        estaturas.append(float(row['estatura']))  # Convertir el valor de 'estatura' a float y agregarlo a la lista

# Definir el rango de valores para generar puntos de prueba
x_range = (min(pesos), max(pesos))
y_range = (min(estaturas), max(estaturas))

# Generar puntos de prueba (opcional)
puntos_prueba = []
for _ in range(100):  # 100 puntos de prueba
    x = random.uniform(*x_range)  # Generar un valor de x aleatorio dentro del rango
    y = random.uniform(*y_range)  # Generar un valor de y aleatorio dentro del rango
    puntos_prueba.append((x, y))  # Agregar el punto (x, y) a la lista de puntos de prueba

# Definir la función para calcular el error de la curva lineal
def calcular_error(m, b):
    error_total = 0  # Inicializar el error total a 0
    for i in range(len(pesos)):  # Iterar sobre cada índice de las listas de pesos y estaturas
        x = pesos[i]  # Obtener el peso en el índice i
        y = estaturas[i]  # Obtener la estatura en el índice i
        y_pred = m * x + b  # Calcular el valor predicho de y usando la ecuación de la línea y = mx + b
        error_total += (y - y_pred) ** 2  # Calcular el error cuadrático para el punto actual y sumarlo al error total
    return error_total  # Devolver el error total

# Inicializar los mejores parámetros y el mejor error
mejor_m = 0
mejor_b = 0
mejor_error = float('inf')  # Inicializar el mejor error a infinito para asegurar que cualquier error calculado sea menor

# Probar diferentes valores de m (pendiente) y b (intersección)
for m in range(-10, 11):  # Probar valores de m en el rango [-10, 10]
    for b in range(-10, 11):  # Probar valores de b en el rango [-10, 10]
        error = calcular_error(m, b)  # Calcular el error para los valores actuales de m y b
        if error < mejor_error:  # Si el error actual es menor que el mejor error registrado
            mejor_error = error  # Actualizar el mejor error
            mejor_m = m  # Actualizar la mejor pendiente
            mejor_b = b  # Actualizar la mejor intersección

# Imprimir los mejores valores encontrados para la pendiente, la intersección y el error
print(f"Mejor m: {mejor_m}, Mejor b: {mejor_b}, Error: {mejor_error}")

# Generar datos para la mejor curva encontrada
x_vals = list(range(int(min(pesos)), int(max(pesos)) + 1))  # Crear una lista de valores x en el rango de los valores de peso
y_vals = [mejor_m * x + mejor_b for x in x_vals]  # Calcular los valores de y para cada x usando la mejor pendiente y la mejor intersección

# Graficar los datos y la curva ajustada
plt.scatter(pesos, estaturas, color='blue', label='Datos reales')  # Graficar los datos reales como puntos azules
plt.plot(x_vals, y_vals, color='red', label='Curva ajustada')  # Graficar la curva ajustada en rojo
plt.xlabel('Peso')  # Etiquetar el eje x como 'Peso'
plt.ylabel('Estatura')  # Etiquetar el eje y como 'Estatura'
plt.legend()  # Mostrar la leyenda para identificar los datos reales y la curva ajustada
plt.show()  # Mostrar la gráfica
